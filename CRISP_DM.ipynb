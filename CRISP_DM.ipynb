{
 "cells": [
  {
   "cell_type": "code",
   "execution_count": null,
   "metadata": {},
   "outputs": [
    {
     "data": {
      "text/html": [
       "<div>\n",
       "<style scoped>\n",
       "    .dataframe tbody tr th:only-of-type {\n",
       "        vertical-align: middle;\n",
       "    }\n",
       "\n",
       "    .dataframe tbody tr th {\n",
       "        vertical-align: top;\n",
       "    }\n",
       "\n",
       "    .dataframe thead th {\n",
       "        text-align: right;\n",
       "    }\n",
       "</style>\n",
       "<table border=\"1\" class=\"dataframe\">\n",
       "  <thead>\n",
       "    <tr style=\"text-align: right;\">\n",
       "      <th></th>\n",
       "      <th>age</th>\n",
       "      <th>salary</th>\n",
       "      <th>home_ownership</th>\n",
       "      <th>employment_time</th>\n",
       "      <th>loan_purposes</th>\n",
       "      <th>credit_score</th>\n",
       "      <th>Credit_Amount</th>\n",
       "      <th>loan_rate</th>\n",
       "      <th>Credit_Status</th>\n",
       "      <th>loan_percentage</th>\n",
       "      <th>Payment_History</th>\n",
       "      <th>Credit_History_Length</th>\n",
       "    </tr>\n",
       "  </thead>\n",
       "  <tbody>\n",
       "    <tr>\n",
       "      <th>0</th>\n",
       "      <td>23</td>\n",
       "      <td>70000</td>\n",
       "      <td>RENT</td>\n",
       "      <td>3.0</td>\n",
       "      <td>EDUCATION</td>\n",
       "      <td>A</td>\n",
       "      <td>12000</td>\n",
       "      <td>7.90</td>\n",
       "      <td>0</td>\n",
       "      <td>0.17</td>\n",
       "      <td>N</td>\n",
       "      <td>2</td>\n",
       "    </tr>\n",
       "    <tr>\n",
       "      <th>1</th>\n",
       "      <td>25</td>\n",
       "      <td>25000</td>\n",
       "      <td>RENT</td>\n",
       "      <td>0.0</td>\n",
       "      <td>MEDICAL</td>\n",
       "      <td>C</td>\n",
       "      <td>8500</td>\n",
       "      <td>12.53</td>\n",
       "      <td>1</td>\n",
       "      <td>0.34</td>\n",
       "      <td>Y</td>\n",
       "      <td>2</td>\n",
       "    </tr>\n",
       "    <tr>\n",
       "      <th>2</th>\n",
       "      <td>24</td>\n",
       "      <td>67000</td>\n",
       "      <td>MORTGAGE</td>\n",
       "      <td>2.0</td>\n",
       "      <td>HOMEIMPROVEMENT</td>\n",
       "      <td>B</td>\n",
       "      <td>12150</td>\n",
       "      <td>10.37</td>\n",
       "      <td>0</td>\n",
       "      <td>0.18</td>\n",
       "      <td>N</td>\n",
       "      <td>3</td>\n",
       "    </tr>\n",
       "    <tr>\n",
       "      <th>3</th>\n",
       "      <td>23</td>\n",
       "      <td>69000</td>\n",
       "      <td>RENT</td>\n",
       "      <td>7.0</td>\n",
       "      <td>MEDICAL</td>\n",
       "      <td>A</td>\n",
       "      <td>6000</td>\n",
       "      <td>7.88</td>\n",
       "      <td>0</td>\n",
       "      <td>0.09</td>\n",
       "      <td>N</td>\n",
       "      <td>2</td>\n",
       "    </tr>\n",
       "    <tr>\n",
       "      <th>4</th>\n",
       "      <td>30</td>\n",
       "      <td>33000</td>\n",
       "      <td>MORTGAGE</td>\n",
       "      <td>2.0</td>\n",
       "      <td>DEBTCONSOLIDATION</td>\n",
       "      <td>A</td>\n",
       "      <td>6000</td>\n",
       "      <td>8.49</td>\n",
       "      <td>0</td>\n",
       "      <td>0.18</td>\n",
       "      <td>N</td>\n",
       "      <td>8</td>\n",
       "    </tr>\n",
       "  </tbody>\n",
       "</table>\n",
       "</div>"
      ],
      "text/plain": [
       "   age  salary home_ownership  employment_time      loan_purposes  \\\n",
       "0   23   70000           RENT              3.0          EDUCATION   \n",
       "1   25   25000           RENT              0.0            MEDICAL   \n",
       "2   24   67000       MORTGAGE              2.0    HOMEIMPROVEMENT   \n",
       "3   23   69000           RENT              7.0            MEDICAL   \n",
       "4   30   33000       MORTGAGE              2.0  DEBTCONSOLIDATION   \n",
       "\n",
       "  credit_score  Credit_Amount  loan_rate  Credit_Status  loan_percentage  \\\n",
       "0            A          12000       7.90              0             0.17   \n",
       "1            C           8500      12.53              1             0.34   \n",
       "2            B          12150      10.37              0             0.18   \n",
       "3            A           6000       7.88              0             0.09   \n",
       "4            A           6000       8.49              0             0.18   \n",
       "\n",
       "  Payment_History  Credit_History_Length  \n",
       "0               N                      2  \n",
       "1               Y                      2  \n",
       "2               N                      3  \n",
       "3               N                      2  \n",
       "4               N                      8  "
      ]
     },
     "execution_count": 88,
     "metadata": {},
     "output_type": "execute_result"
    }
   ],
   "source": [
    "\n",
    "import numpy as np\n",
    "import matplotlib.pyplot as plt\n",
    "import pandas as pd\n",
    "import numpy as np\n",
    "from sklearn.metrics import confusion_matrix , ConfusionMatrixDisplay\n",
    "import seaborn as sns\n",
    "from sklearn.metrics import recall_score ,precision_score ,f1_score\n",
    "\n",
    "from sklearn import preprocessing\n",
    "%matplotlib inline\n",
    "df = pd.read_csv('https://raw.githubusercontent.com/Rafig77/data/main/credit_risk.csv')\n",
    "df.head()"
   ]
  },
  {
   "attachments": {},
   "cell_type": "markdown",
   "metadata": {},
   "source": [
    "#### Data understanding"
   ]
  },
  {
   "cell_type": "code",
   "execution_count": 64,
   "metadata": {},
   "outputs": [
    {
     "data": {
      "text/plain": [
       "age                         0\n",
       "salary                      0\n",
       "home_ownership              0\n",
       "employment_time           895\n",
       "loan_purposes               0\n",
       "credit_score                0\n",
       "Credit_Amount               0\n",
       "loan_rate                3116\n",
       "Credit_Status               0\n",
       "loan_percentage             0\n",
       "Payment_History             0\n",
       "Credit_History_Length       0\n",
       "dtype: int64"
      ]
     },
     "execution_count": 64,
     "metadata": {},
     "output_type": "execute_result"
    }
   ],
   "source": [
    "# Getting null values\n",
    "df.isnull().sum()\n"
   ]
  },
  {
   "cell_type": "code",
   "execution_count": 65,
   "metadata": {},
   "outputs": [
    {
     "name": "stdout",
     "output_type": "stream",
     "text": [
      "   age  salary home_ownership  employment_time      loan_purposes  \\\n",
      "0   23   70000           RENT              3.0          EDUCATION   \n",
      "1   25   25000           RENT              0.0            MEDICAL   \n",
      "2   24   67000       MORTGAGE              2.0    HOMEIMPROVEMENT   \n",
      "3   23   69000           RENT              7.0            MEDICAL   \n",
      "4   30   33000       MORTGAGE              2.0  DEBTCONSOLIDATION   \n",
      "\n",
      "  credit_score  Credit_Amount  loan_rate  Credit_Status  loan_percentage  \\\n",
      "0            A          12000       7.90              0             0.17   \n",
      "1            C           8500      12.53              1             0.34   \n",
      "2            B          12150      10.37              0             0.18   \n",
      "3            A           6000       7.88              0             0.09   \n",
      "4            A           6000       8.49              0             0.18   \n",
      "\n",
      "  Payment_History  Credit_History_Length  \n",
      "0               N                      2  \n",
      "1               Y                      2  \n",
      "2               N                      3  \n",
      "3               N                      2  \n",
      "4               N                      8  \n"
     ]
    }
   ],
   "source": [
    "# Displaying the first few rows of dataset\n",
    "print(df.head())"
   ]
  },
  {
   "cell_type": "code",
   "execution_count": 83,
   "metadata": {},
   "outputs": [
    {
     "name": "stdout",
     "output_type": "stream",
     "text": [
      "<class 'pandas.core.frame.DataFrame'>\n",
      "RangeIndex: 32581 entries, 0 to 32580\n",
      "Data columns (total 30 columns):\n",
      " #   Column                           Non-Null Count  Dtype  \n",
      "---  ------                           --------------  -----  \n",
      " 0   age                              32581 non-null  int64  \n",
      " 1   salary                           32581 non-null  int64  \n",
      " 2   employment_time                  32581 non-null  float64\n",
      " 3   Credit_Amount                    32581 non-null  int64  \n",
      " 4   loan_rate                        32581 non-null  float64\n",
      " 5   Credit_Status                    32581 non-null  int64  \n",
      " 6   loan_percentage                  32581 non-null  float64\n",
      " 7   Credit_History_Length            32581 non-null  int64  \n",
      " 8   home_ownership_MORTGAGE          32581 non-null  uint8  \n",
      " 9   home_ownership_OTHER             32581 non-null  uint8  \n",
      " 10  home_ownership_OWN               32581 non-null  uint8  \n",
      " 11  home_ownership_RENT              32581 non-null  uint8  \n",
      " 12  loan_purposes_DEBTCONSOLIDATION  32581 non-null  uint8  \n",
      " 13  loan_purposes_EDUCATION          32581 non-null  uint8  \n",
      " 14  loan_purposes_HOMEIMPROVEMENT    32581 non-null  uint8  \n",
      " 15  loan_purposes_MEDICAL            32581 non-null  uint8  \n",
      " 16  loan_purposes_PERSONAL           32581 non-null  uint8  \n",
      " 17  loan_purposes_VENTURE            32581 non-null  uint8  \n",
      " 18  credit_score_A                   32581 non-null  uint8  \n",
      " 19  credit_score_B                   32581 non-null  uint8  \n",
      " 20  credit_score_C                   32581 non-null  uint8  \n",
      " 21  credit_score_D                   32581 non-null  uint8  \n",
      " 22  credit_score_E                   32581 non-null  uint8  \n",
      " 23  credit_score_F                   32581 non-null  uint8  \n",
      " 24  credit_score_G                   32581 non-null  uint8  \n",
      " 25  Payment_History_N                32581 non-null  uint8  \n",
      " 26  Payment_History_Y                32581 non-null  uint8  \n",
      " 27  age_squared                      32581 non-null  int64  \n",
      " 28  Credit_Amount                    32581 non-null  float64\n",
      " 29  His_rate                         32581 non-null  float64\n",
      "dtypes: float64(5), int64(6), uint8(19)\n",
      "memory usage: 3.3 MB\n"
     ]
    }
   ],
   "source": [
    "df.info()"
   ]
  },
  {
   "cell_type": "code",
   "execution_count": null,
   "metadata": {},
   "outputs": [],
   "source": [
    "# Box Plot\n",
    "sns.set_style('darkgrid')\n",
    "sns.boxplot(df['age'])\n",
    "plt.title(Age)\n",
    "plt.show()\n"
   ]
  },
  {
   "cell_type": "code",
   "execution_count": null,
   "metadata": {},
   "outputs": [
    {
     "name": "stdout",
     "output_type": "stream",
     "text": [
      "(32581, 12)\n",
      "age                        int64\n",
      "salary                     int64\n",
      "home_ownership            object\n",
      "employment_time          float64\n",
      "loan_purposes             object\n",
      "credit_score              object\n",
      "Credit_Amount              int64\n",
      "loan_rate                float64\n",
      "Credit_Status              int64\n",
      "loan_percentage          float64\n",
      "Payment_History           object\n",
      "Credit_History_Length      int64\n",
      "dtype: object\n"
     ]
    }
   ],
   "source": [
    "#Displaying shape and types of dataset\n",
    "print(df.shape)\n",
    "print(df.dtypes)"
   ]
  },
  {
   "cell_type": "code",
   "execution_count": null,
   "metadata": {},
   "outputs": [],
   "source": [
    "# Heat Map\n",
    "numerical_columns=list(df.select_dtypes(exclude=object)) # Gettin only numerical features\n",
    "numerical_columns.remove('Credit_Status') # It is target\n",
    "\n",
    "corr_matrix=df[numerical_columns].corr()# Getting coorelation matrix\n",
    "mask = np.triu(np.ones_like(corr_matrix)) # Gettig only upper matrix and setting 0 to lower\n",
    " \n",
    "# plotting a triangle correlation heatmap\n",
    "dataplot = sns.heatmap(corr_matrix, cmap=\"YlGnBu\", annot=True, mask=mask)\n",
    " \n",
    "# displaying heatmap\n",
    "plt.show()"
   ]
  },
  {
   "cell_type": "code",
   "execution_count": 67,
   "metadata": {},
   "outputs": [
    {
     "name": "stdout",
     "output_type": "stream",
     "text": [
      "Index(['home_ownership', 'loan_purposes', 'credit_score', 'Payment_History'], dtype='object')\n",
      "home_ownership     4\n",
      "loan_purposes      6\n",
      "credit_score       7\n",
      "Payment_History    2\n",
      "dtype: int64\n"
     ]
    }
   ],
   "source": [
    "# Finding categorical features and unique variables\n",
    "print(df.select_dtypes(include=['object']).columns)\n",
    "print(df.select_dtypes(include=['object']).nunique())"
   ]
  },
  {
   "attachments": {},
   "cell_type": "markdown",
   "metadata": {},
   "source": [
    "#### Checking relationship between features\n"
   ]
  },
  {
   "cell_type": "code",
   "execution_count": 73,
   "metadata": {},
   "outputs": [
    {
     "name": "stdout",
     "output_type": "stream",
     "text": [
      "Column: age, Min Correlation: inf, Max Correlation: 1.0\n",
      "Column: salary, Min Correlation: inf, Max Correlation: 0.9999999999999999\n",
      "Column: employment_time, Min Correlation: inf, Max Correlation: 0.9999999999999998\n",
      "Column: Credit_Amount, Min Correlation: inf, Max Correlation: 1.0\n",
      "Column: loan_rate, Min Correlation: inf, Max Correlation: 0.9999999999999999\n",
      "Column: Credit_Status, Min Correlation: inf, Max Correlation: 1.0\n",
      "Column: loan_percentage, Min Correlation: inf, Max Correlation: 1.0\n",
      "Column: Credit_History_Length, Min Correlation: inf, Max Correlation: 1.0\n",
      "Column: home_ownership_MORTGAGE, Min Correlation: inf, Max Correlation: 1.0\n",
      "Column: home_ownership_OTHER, Min Correlation: inf, Max Correlation: 1.0\n",
      "Column: home_ownership_OWN, Min Correlation: inf, Max Correlation: 0.9999999999999998\n",
      "Column: home_ownership_RENT, Min Correlation: inf, Max Correlation: 1.0\n",
      "Column: loan_purposes_DEBTCONSOLIDATION, Min Correlation: inf, Max Correlation: 1.0\n",
      "Column: loan_purposes_EDUCATION, Min Correlation: inf, Max Correlation: 1.0\n",
      "Column: loan_purposes_HOMEIMPROVEMENT, Min Correlation: inf, Max Correlation: 1.0\n",
      "Column: loan_purposes_MEDICAL, Min Correlation: inf, Max Correlation: 0.9999999999999999\n",
      "Column: loan_purposes_PERSONAL, Min Correlation: inf, Max Correlation: 1.0\n",
      "Column: loan_purposes_VENTURE, Min Correlation: inf, Max Correlation: 1.0\n",
      "Column: credit_score_A, Min Correlation: inf, Max Correlation: 1.0\n",
      "Column: credit_score_B, Min Correlation: inf, Max Correlation: 1.0\n",
      "Column: credit_score_C, Min Correlation: inf, Max Correlation: 0.9999999999999999\n",
      "Column: credit_score_D, Min Correlation: inf, Max Correlation: 1.0\n",
      "Column: credit_score_E, Min Correlation: inf, Max Correlation: 1.0\n",
      "Column: credit_score_F, Min Correlation: inf, Max Correlation: 0.9999999999999999\n",
      "Column: credit_score_G, Min Correlation: inf, Max Correlation: 1.0\n",
      "Column: Payment_History_N, Min Correlation: inf, Max Correlation: 0.9999999999999999\n",
      "Column: Payment_History_Y, Min Correlation: inf, Max Correlation: 0.9999999999999999\n"
     ]
    }
   ],
   "source": [
    "#Find most and least coorelated columns\n",
    "min_max=[]\n",
    "for i in df.columns:\n",
    "    min_corr = float('inf')  \n",
    "    max_corr = float('-inf') \n",
    "    for a in df.columns:\n",
    "        corr=df[i].corr(df[a])\n",
    "        if corr>max_corr:\n",
    "            max_corr=corr\n",
    "        if corr>min_corr:\n",
    "            min_corr=corr   \n",
    "    print(f\"Column: {i}, Min Correlation: {min_corr}, Max Correlation: {max_corr}\")\n",
    "\n",
    "        \n"
   ]
  },
  {
   "attachments": {},
   "cell_type": "markdown",
   "metadata": {},
   "source": [
    "#### Data Preparation"
   ]
  },
  {
   "cell_type": "code",
   "execution_count": 79,
   "metadata": {},
   "outputs": [
    {
     "name": "stdout",
     "output_type": "stream",
     "text": [
      "age                                0\n",
      "salary                             0\n",
      "employment_time                    0\n",
      "Credit_Amount                      0\n",
      "loan_rate                          0\n",
      "Credit_Status                      0\n",
      "loan_percentage                    0\n",
      "Credit_History_Length              0\n",
      "home_ownership_MORTGAGE            0\n",
      "home_ownership_OTHER               0\n",
      "home_ownership_OWN                 0\n",
      "home_ownership_RENT                0\n",
      "loan_purposes_DEBTCONSOLIDATION    0\n",
      "loan_purposes_EDUCATION            0\n",
      "loan_purposes_HOMEIMPROVEMENT      0\n",
      "loan_purposes_MEDICAL              0\n",
      "loan_purposes_PERSONAL             0\n",
      "loan_purposes_VENTURE              0\n",
      "credit_score_A                     0\n",
      "credit_score_B                     0\n",
      "credit_score_C                     0\n",
      "credit_score_D                     0\n",
      "credit_score_E                     0\n",
      "credit_score_F                     0\n",
      "credit_score_G                     0\n",
      "Payment_History_N                  0\n",
      "Payment_History_Y                  0\n",
      "dtype: int64\n"
     ]
    }
   ],
   "source": [
    "# Converting categorical values into numerical using one-hot encoding\n",
    "df=pd.get_dummies(df,columns=['home_ownership', 'loan_purposes', 'credit_score', 'Payment_History'])\n",
    "from sklearn.model_selection import train_test_split\n",
    "\n",
    "# Replacing missing values with mean of each column\n",
    "df=df.replace(np.nan,df['employment_time'].mean())\n",
    "df=df.replace(np.nan,df['loan_rate'].mean()) #/fillna(0)\n",
    "\n",
    "#Checking \n",
    "print(df.isnull().sum())\n",
    "\n",
    "\n"
   ]
  },
  {
   "cell_type": "code",
   "execution_count": 82,
   "metadata": {},
   "outputs": [
    {
     "name": "stdout",
     "output_type": "stream",
     "text": [
      "0.17263027059081626\n"
     ]
    }
   ],
   "source": [
    "# Feature enginnering\n",
    "selected_features = ['age', 'salary', 'home_ownership', 'employment_time', 'loan_purposes']\n",
    "df['age_squared']=df['age']**2\n",
    "df['Credit_Amount  ']=np.log(df['Credit_Amount'])\n",
    "\n",
    "df['His_rate'] = df['Credit_History_Length'] + df['loan_rate']\n",
    "print(df['His_rate'].corr(df['Credit_Status'])) # It is least coorelated with our target"
   ]
  },
  {
   "attachments": {},
   "cell_type": "markdown",
   "metadata": {},
   "source": [
    "### Modeling\n"
   ]
  },
  {
   "cell_type": "code",
   "execution_count": null,
   "metadata": {},
   "outputs": [
    {
     "name": "stdout",
     "output_type": "stream",
     "text": [
      "test_accuracy: 0.9181308984884524, train_accuracy: 0.92280540208717\n"
     ]
    }
   ],
   "source": [
    "from sklearn.tree import DecisionTreeClassifier\n",
    "X=df.drop('Credit_Status',axis=1)\n",
    "y=df['Credit_Status']\n",
    "X_train,X_test,y_train ,y_test = train_test_split(X,y ,test_size= 0.4,random_state= 42 , shuffle= True,stratify= y)\n",
    "\n",
    "# Using decison tree\n",
    "clf = DecisionTreeClassifier(max_depth= 6)\n",
    "clf.fit(X_train,y_train)\n",
    "y_pred=clf.predict(X_test)\n",
    "y_train_pred = clf.predict(X_train)\n",
    "\n",
    "test_accuracy=clf.fit(X_train,y_train).score(X_test,y_test)\n",
    "train_accuracy=clf.fit(X_train,y_train).score(X_train,y_train)\n",
    "print(f\"test_accuracy: {test_accuracy}, train_accuracy: {train_accuracy}\")\n",
    "\n",
    "\n"
   ]
  },
  {
   "cell_type": "code",
   "execution_count": 89,
   "metadata": {},
   "outputs": [
    {
     "data": {
      "image/png": "[encoded data removed]",
      "text/plain": [
       "<Figure size 640x480 with 2 Axes>"
      ]
     },
     "metadata": {},
     "output_type": "display_data"
    }
   ],
   "source": [
    "conf = confusion_matrix(y_test,y_pred)\n",
    "cm_display = ConfusionMatrixDisplay(confusion_matrix=conf, display_labels=['işde qalacaq', 'cikacaq'])\n",
    "\n",
    "# Plot the confusion matrix\n",
    "cm_display.plot(include_values=True, cmap='Blues', ax=plt.gca())\n",
    "\n",
    "# Customize the appearance of the plot\n",
    "plt.title('Confusion Matrix')\n",
    "plt.xlabel('Modelin nəticəsi')\n",
    "plt.ylabel('Realliqda')\n",
    "plt.grid(False)\n",
    "\n",
    "# Show the plot\n",
    "plt.show()"
   ]
  },
  {
   "cell_type": "code",
   "execution_count": null,
   "metadata": {},
   "outputs": [],
   "source": [
    "f1_score_test=f1_score(y_test,y_pred)\n",
    "f1_score_train=f1_score(y_train,y_train_pred)\n",
    "print(f\"test f1: {f1_score_test}, train f1: {f1_score_train}\")\n",
    "\n",
    "prec_train=precision_score(y_train , y_train_pred)\n",
    "prec_test=precision_score(y_test, y_pred)"
   ]
  },
  {
   "cell_type": "code",
   "execution_count": null,
   "metadata": {},
   "outputs": [],
   "source": [
    "#Random Forest\n",
    "from sklearn.ensemble import RandomForestClassifier\n",
    "from sklearn.metrics import f1_score\n",
    "\n",
    "random_model = RandomForestClassifier(n_estimators= 100,max_depth= 7)\n",
    "random_model.fit(X_train,y_train)\n",
    "print('Test accuracy :' ,f1_score (random_model.predict(X_test),y_test))\n",
    "\n",
    "print('Train accuracy :',f1_score (random_model.predict(X_train),y_train))"
   ]
  }
 ],
 "metadata": {
  "kernelspec": {
   "display_name": "base",
   "language": "python",
   "name": "python3"
  },
  "language_info": {
   "codemirror_mode": {
    "name": "ipython",
    "version": 3
   },
   "file_extension": ".py",
   "mimetype": "text/x-python",
   "name": "python",
   "nbconvert_exporter": "python",
   "pygments_lexer": "ipython3",
   "version": "3.10.9"
  },
  "orig_nbformat": 4
 },
 "nbformat": 4,
 "nbformat_minor": 2
}
