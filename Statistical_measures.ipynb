{
 "cells": [
  {
   "cell_type": "code",
   "execution_count": 10,
   "metadata": {},
   "outputs": [],
   "source": [
    "import pandas as pd\n",
    "from scipy.stats import jarque_bera\n",
    "\n",
    "url = \"https://raw.githubusercontent.com/emreyazicicode/code2023/main/week5/w5_Telecom_customer%20churn.csv\"\n",
    "df = pd.read_csv(url)\n",
    "columns = ['rev_Mean', 'mou_Mean', 'totmrc_Mean', 'da_Mean']"
   ]
  },
  {
   "attachments": {},
   "cell_type": "markdown",
   "metadata": {},
   "source": [
    "#### Finding count and mean of values for each column"
   ]
  },
  {
   "cell_type": "code",
   "execution_count": 11,
   "metadata": {},
   "outputs": [
    {
     "name": "stdout",
     "output_type": "stream",
     "text": [
      "mean and count of rev_Mean are 59.55059433143502 and 9979\n",
      "mean and count of mou_Mean are 474.4670975714761 and 9979\n",
      "mean and count of totmrc_Mean are 45.814313808993184 and 9979\n",
      "mean and count of da_Mean are 0.9466046197013729 and 9979\n"
     ]
    }
   ],
   "source": [
    "for i in columns:\n",
    "    count=df[i].count()\n",
    "    mean=df[i].mean()\n",
    "    print(\"mean and count of {} are {} and {}\".format(i,mean,count))\n",
    "    "
   ]
  },
  {
   "attachments": {},
   "cell_type": "markdown",
   "metadata": {},
   "source": [
    "#### Finding standart deviation, min and max of values for each column"
   ]
  },
  {
   "cell_type": "code",
   "execution_count": 14,
   "metadata": {},
   "outputs": [
    {
     "name": "stdout",
     "output_type": "stream",
     "text": [
      "std,meadian,min and max of rev_Mean are 47.72942474421265,47.5 and 4.745\n",
      "std,meadian,min and max of mou_Mean are 544.3676630296229,296.75 and 0.0\n",
      "std,meadian,min and max of totmrc_Mean are 26.941139570407763,39.99 and -2.215\n",
      "std,meadian,min and max of da_Mean are 2.4511804793529186,0.2475 and 0.0\n"
     ]
    }
   ],
   "source": [
    "for i in columns:\n",
    "    min=df[i].min()\n",
    "    max=df[i].max()\n",
    "    std=df[i].std()\n",
    "    median=df[i].median()\n",
    "    print(\"std,meadian,min and max of {} are {},{} and {}\".format(i,std,median,min,max))"
   ]
  },
  {
   "attachments": {},
   "cell_type": "markdown",
   "metadata": {},
   "source": [
    "#### Finding Jarque-Bera"
   ]
  },
  {
   "cell_type": "code",
   "execution_count": 12,
   "metadata": {},
   "outputs": [
    {
     "name": "stdout",
     "output_type": "stream",
     "text": [
      "SignificanceResult(statistic=26524.613896108127, pvalue=0.0) - rev_mean_norm , mou_mean_norm SignificanceResult(statistic=18418.16388621039, pvalue=0.0)\n"
     ]
    }
   ],
   "source": [
    "df_norm=df.dropna()\n",
    "rev_mean_norm=jarque_bera(df_norm['rev_Mean'])\n",
    "mou_mean_norm = jarque_bera(df_norm['mou_Mean'])\n",
    "print(\"{} - rev_mean_norm , mou_mean_norm {}\".format(rev_mean_norm,mou_mean_norm))\n"
   ]
  },
  {
   "attachments": {},
   "cell_type": "markdown",
   "metadata": {},
   "source": [
    "#### Finding IQR, Q1 and Q3"
   ]
  },
  {
   "cell_type": "code",
   "execution_count": 19,
   "metadata": {},
   "outputs": [
    {
     "name": "stdout",
     "output_type": "stream",
     "text": [
      "Column:  rev_Mean\n",
      "Q1:  31.83625\n",
      "Q3:  73.6\n",
      "IQR:  41.763749999999995\n",
      "\n",
      "Column:  mou_Mean\n",
      "Q1:  104.875\n",
      "Q3:  643.625\n",
      "IQR:  538.75\n",
      "\n",
      "Column:  totmrc_Mean\n",
      "Q1:  29.99\n",
      "Q3:  59.99\n",
      "IQR:  30.000000000000004\n",
      "\n",
      "Column:  da_Mean\n",
      "Q1:  0.0\n",
      "Q3:  0.7425\n",
      "IQR:  0.7425\n",
      "\n"
     ]
    }
   ],
   "source": [
    "for i in columns:\n",
    "    q1=df[i].quantile(0.25)\n",
    "    q3=df[i].quantile(0.75)\n",
    "    IQR=q3-q1\n",
    "    print(\"Column: \",i)\n",
    "    print(\"Q1: \",q1)\n",
    "    print(\"Q3: \",q3)\n",
    "    print(\"IQR: \",IQR)\n",
    "    print()"
   ]
  },
  {
   "attachments": {},
   "cell_type": "markdown",
   "metadata": {},
   "source": [
    "### Find  skew,kurtosis,outliers"
   ]
  },
  {
   "cell_type": "code",
   "execution_count": 22,
   "metadata": {},
   "outputs": [
    {
     "name": "stdout",
     "output_type": "stream",
     "text": [
      "Column:  rev_Mean\n",
      "Skewness:  4.479423274902378\n",
      "Kurtosis:  51.90350646656829\n",
      "outliers:  14      212.5150\n",
      "20      172.4400\n",
      "22      244.0975\n",
      "53      145.7950\n",
      "63      342.8575\n",
      "          ...   \n",
      "9960    141.7025\n",
      "9970    143.9375\n",
      "9989    136.4750\n",
      "9990    205.1150\n",
      "9997    227.1350\n",
      "Name: rev_Mean, Length: 574, dtype: float64\n",
      "\n",
      "Column:  mou_Mean\n",
      "Skewness:  2.549159997059531\n",
      "Kurtosis:  11.35018464282486\n",
      "outliers:  14      1971.50\n",
      "20      1978.00\n",
      "22      1771.50\n",
      "63      2961.25\n",
      "67      2382.50\n",
      "         ...   \n",
      "9905    1573.50\n",
      "9914    1667.75\n",
      "9947    3032.00\n",
      "9990    1698.75\n",
      "9997    1662.00\n",
      "Name: mou_Mean, Length: 587, dtype: float64\n",
      "\n",
      "Column:  totmrc_Mean\n",
      "Skewness:  2.260584293232901\n",
      "Kurtosis:  12.552248017412818\n",
      "outliers:  63      139.9600\n",
      "67      149.9900\n",
      "127     182.9375\n",
      "142     212.9900\n",
      "161     107.9800\n",
      "          ...   \n",
      "9863    112.4900\n",
      "9980    109.9900\n",
      "9989    144.9900\n",
      "9990    149.9900\n",
      "9997    189.9900\n",
      "Name: totmrc_Mean, Length: 226, dtype: float64\n",
      "\n",
      "Column:  da_Mean\n",
      "Skewness:  7.661731167294816\n",
      "Kurtosis:  100.13554951556151\n",
      "outliers:  8        4.9500\n",
      "10       2.4750\n",
      "14       2.2275\n",
      "22       6.1875\n",
      "63      11.1375\n",
      "         ...   \n",
      "9972     7.4250\n",
      "9973     3.4650\n",
      "9980     5.9400\n",
      "9985     2.7225\n",
      "9990     4.9500\n",
      "Name: da_Mean, Length: 1424, dtype: float64\n",
      "\n"
     ]
    }
   ],
   "source": [
    "for i in columns:\n",
    "    skewness = df[i].skew()\n",
    "    kurtosis = df[i].kurtosis()\n",
    "    q1=df[i].quantile(0.25)\n",
    "    q3=df[i].quantile(0.75)\n",
    "    IQR=q3-q1\n",
    "    lower_bound=q1-1.5*IQR\n",
    "    upper_bound=q3+1.5*IQR\n",
    "    outliers=df[(df[i]<lower_bound)|(df[i]>upper_bound)][i]\n",
    "    print(\"Column: \",i)\n",
    "    print(\"Skewness: \",skewness)\n",
    "    print(\"Kurtosis: \", kurtosis)\n",
    "    print(\"outliers: \",outliers)\n",
    "    print()\n"
   ]
  },
  {
   "attachments": {},
   "cell_type": "markdown",
   "metadata": {},
   "source": [
    "#### Finding corroleation"
   ]
  },
  {
   "cell_type": "code",
   "execution_count": 30,
   "metadata": {},
   "outputs": [
    {
     "name": "stdout",
     "output_type": "stream",
     "text": [
      "             rev_Mean  mou_Mean  totmrc_Mean   da_Mean\n",
      "rev_Mean     1.000000  0.776165     0.685193  0.445261\n",
      "mou_Mean     0.776165  1.000000     0.649387  0.425862\n",
      "totmrc_Mean  0.685193  0.649387     1.000000  0.343694\n",
      "da_Mean      0.445261  0.425862     0.343694  1.000000\n"
     ]
    }
   ],
   "source": [
    "print(df[columns].corr())"
   ]
  },
  {
   "attachments": {},
   "cell_type": "markdown",
   "metadata": {},
   "source": [
    "#### Defing counts of categorical values"
   ]
  },
  {
   "cell_type": "code",
   "execution_count": 37,
   "metadata": {},
   "outputs": [
    {
     "name": "stdout",
     "output_type": "stream",
     "text": [
      "Frequency of catgorical values in rev_Mean is:\n",
      "29.9900     0.014931\n",
      "30.0000     0.011825\n",
      "16.9900     0.011123\n",
      "34.9900     0.008418\n",
      "30.2600     0.006514\n",
      "              ...   \n",
      "74.4025     0.000100\n",
      "127.2000    0.000100\n",
      "91.8975     0.000100\n",
      "63.0250     0.000100\n",
      "74.3650     0.000100\n",
      "Name: rev_Mean, Length: 7381, dtype: float64 \n",
      "Frequency of catgorical values in mou_Mean is:\n",
      "0.00       0.021645\n",
      "0.25       0.002104\n",
      "1.25       0.001704\n",
      "0.75       0.001704\n",
      "8.75       0.001603\n",
      "             ...   \n",
      "707.75     0.000100\n",
      "936.00     0.000100\n",
      "1370.25    0.000100\n",
      "690.25     0.000100\n",
      "1662.00    0.000100\n",
      "Name: mou_Mean, Length: 4265, dtype: float64 \n",
      "Frequency of catgorical values in totmrc_Mean is:\n",
      "29.9900     0.101513\n",
      "30.0000     0.093396\n",
      "44.9900     0.057421\n",
      "16.9900     0.055216\n",
      "59.9900     0.054615\n",
      "              ...   \n",
      "56.0375     0.000100\n",
      "51.7400     0.000100\n",
      "81.4475     0.000100\n",
      "92.8225     0.000100\n",
      "189.9900    0.000100\n",
      "Name: totmrc_Mean, Length: 1432, dtype: float64 \n",
      "Frequency of catgorical values in da_Mean is:\n",
      "0.0000     0.495941\n",
      "0.2475     0.133079\n",
      "0.4950     0.072753\n",
      "0.7425     0.049805\n",
      "0.9900     0.038982\n",
      "             ...   \n",
      "14.8500    0.000100\n",
      "36.1350    0.000100\n",
      "4.6200     0.000100\n",
      "18.3150    0.000100\n",
      "12.8700    0.000100\n",
      "Name: da_Mean, Length: 103, dtype: float64 \n"
     ]
    }
   ],
   "source": [
    "\n",
    "\n",
    "for i in columns:\n",
    "    freq = df[i].value_counts(normalize=True)\n",
    "    print(\"Frequency of catgorical values in {} is:\\n{} \".format(i,freq))\n"
   ]
  }
 ],
 "metadata": {
  "kernelspec": {
   "display_name": "base",
   "language": "python",
   "name": "python3"
  },
  "language_info": {
   "codemirror_mode": {
    "name": "ipython",
    "version": 3
   },
   "file_extension": ".py",
   "mimetype": "text/x-python",
   "name": "python",
   "nbconvert_exporter": "python",
   "pygments_lexer": "ipython3",
   "version": "3.10.9"
  },
  "orig_nbformat": 4
 },
 "nbformat": 4,
 "nbformat_minor": 2
}
