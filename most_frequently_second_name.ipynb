{
 "cells": [
  {
   "cell_type": "code",
   "execution_count": 4,
   "metadata": {},
   "outputs": [
    {
     "name": "stdout",
     "output_type": "stream",
     "text": [
      "Most frequent surname for SAHİLƏ: HÜSEYNOVA\n"
     ]
    }
   ],
   "source": [
    "import pandas as pd\n",
    "df = pd.read_csv('https://raw.githubusercontent.com/emreyazicicode/code2023/main/week7/week_7_names_split.csv')\n",
    "\n",
    "def get_most_frequent_surname(dataset, name):\n",
    "    # Filter dataset for the specified name\n",
    "    filtered_data = dataset[dataset['name'] == name]\n",
    "\n",
    "    if len(filtered_data) == 0:\n",
    "        return \"No records found for the given name.\"\n",
    "\n",
    "    # Count the occurrences of each surname\n",
    "    surname_counts = filtered_data['surname'].value_counts()\n",
    "\n",
    "    if len(surname_counts) == 0:\n",
    "        return \"No surnames found for the given name.\"\n",
    "\n",
    "    # Find the most frequent surname\n",
    "    most_frequent_surname = surname_counts.idxmax()\n",
    "\n",
    "    return most_frequent_surname\n",
    "# Test the function\n",
    "name = 'SAHİLƏ'\n",
    "result = get_most_frequent_surname(df, name)\n",
    "print(f\"Most frequent surname for {name}: {result}\")"
   ]
  },
  {
   "cell_type": "code",
   "execution_count": null,
   "metadata": {},
   "outputs": [],
   "source": []
  }
 ],
 "metadata": {
  "kernelspec": {
   "display_name": "base",
   "language": "python",
   "name": "python3"
  },
  "language_info": {
   "codemirror_mode": {
    "name": "ipython",
    "version": 3
   },
   "file_extension": ".py",
   "mimetype": "text/x-python",
   "name": "python",
   "nbconvert_exporter": "python",
   "pygments_lexer": "ipython3",
   "version": "3.10.9"
  },
  "orig_nbformat": 4
 },
 "nbformat": 4,
 "nbformat_minor": 2
}
